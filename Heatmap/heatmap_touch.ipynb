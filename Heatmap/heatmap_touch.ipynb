{
 "cells": [
  {
   "cell_type": "code",
   "execution_count": 1,
   "id": "7df4b43e-e25e-42d5-94fc-1a6899a75688",
   "metadata": {},
   "outputs": [],
   "source": [
    "import json\n",
    "import re\n",
    "import pandas as pd\n",
    "import os\n",
    "import matplotlib.font_manager as font_manager\n",
    "from mplsoccer import VerticalPitch\n",
    "import LanusStats as ls"
   ]
  },
  {
   "cell_type": "code",
   "execution_count": null,
   "id": "58be0b37-3db6-42df-8b08-084f1e193e86",
   "metadata": {},
   "outputs": [],
   "source": [
    "# Directory path with matches\n",
    "\n",
    "cartella = '/Users/alfonsomarino/Desktop/partite genoa'\n",
    "cartella2 = '/Users/alfonsomarino/Desktop/partite napoli'\n",
    "\n",
    "\n",
    "# Create a list with complete file path\n",
    "lista_file = [os.path.join(cartella, f) for f in os.listdir(cartella) if os.path.isfile(os.path.join(cartella, f))]\n",
    "\n",
    "lista_file2 = [os.path.join(cartella2, f) for f in os.listdir(cartella2) if os.path.isfile(os.path.join(cartella2, f))]"
   ]
  },
  {
   "cell_type": "code",
   "execution_count": null,
   "id": "6c38c03a-68c9-4c43-b648-3acdca43524f",
   "metadata": {},
   "outputs": [],
   "source": [
    "#Import any font you want from your pc\n",
    "## Create a font properties object with the font file\n",
    "\n",
    "font_path_regular = '/Users/alfonsomarino/Desktop/Teko/static/Teko-Regular.ttf'\n",
    "font_normal = font_manager.FontProperties(fname=font_path_regular)\n",
    "\n",
    "font_path_med = \"/Users/alfonsomarino/Desktop/Teko/static/Teko-Medium.ttf\"\n",
    "font_med = font_manager.FontProperties(fname = font_path_med)\n",
    "\n",
    "font_path_semi = \"/Users/alfonsomarino/Desktop/Teko/static/Teko-SemiBold.ttf\"\n",
    "font_semi = font_manager.FontProperties(fname = font_path_semi)"
   ]
  },
  {
   "cell_type": "markdown",
   "id": "a4a0e0f1-a90b-4d82-99ea-76e640894926",
   "metadata": {},
   "source": [
    "# Scraping HTML file"
   ]
  },
  {
   "cell_type": "code",
   "execution_count": null,
   "id": "8baffe10-b56b-4695-a361-7007ebe2244f",
   "metadata": {},
   "outputs": [],
   "source": [
    "def extract_json_from_html(html_path, save_output=False):\n",
    "    html_file = open(html_path, 'r')\n",
    "    html = html_file.read()\n",
    "    html_file.close()\n",
    "    regex_pattern = r'(?<=require\\.config\\.params\\[\"args\"\\].=.)[\\s\\S]*?;'\n",
    "    data_txt = re.findall(regex_pattern, html)[0]\n",
    "\n",
    "    # add quotations for json parser\n",
    "    data_txt = data_txt.replace('matchId', '\"matchId\"')\n",
    "    data_txt = data_txt.replace('matchCentreData', '\"matchCentreData\"')\n",
    "    data_txt = data_txt.replace('matchCentreEventTypeJson', '\"matchCentreEventTypeJson\"')\n",
    "    data_txt = data_txt.replace('formationIdNameMappings', '\"formationIdNameMappings\"')\n",
    "    data_txt = data_txt.replace('};', '}')\n",
    "\n",
    "    if save_output:\n",
    "        # save json data to txt\n",
    "        output_file = open(f\"{html_path}.txt\", \"wt\")\n",
    "        n = output_file.write(data_txt)\n",
    "        output_file.close()\n",
    "\n",
    "    return data_txt"
   ]
  },
  {
   "cell_type": "code",
   "execution_count": null,
   "id": "76b9fbc1-1e55-4847-9289-c8313b1afdd2",
   "metadata": {},
   "outputs": [],
   "source": [
    "def extract_data_from_dict(data):\n",
    "    # load data from json\n",
    "    event_types_json = data[\"matchCentreEventTypeJson\"]\n",
    "    formation_mappings = data[\"formationIdNameMappings\"]\n",
    "    events_dict = data[\"matchCentreData\"][\"events\"]\n",
    "    teams_dict = {data[\"matchCentreData\"]['home']['teamId']: data[\"matchCentreData\"]['home']['name'],\n",
    "                  data[\"matchCentreData\"]['away']['teamId']: data[\"matchCentreData\"]['away']['name']}\n",
    "    players_dict = data[\"matchCentreData\"][\"playerIdNameDictionary\"]\n",
    "    # create players dataframe\n",
    "    players_home_df = pd.DataFrame(data[\"matchCentreData\"]['home']['players'])\n",
    "    players_home_df[\"teamId\"] = data[\"matchCentreData\"]['home']['teamId']\n",
    "    players_away_df = pd.DataFrame(data[\"matchCentreData\"]['away']['players'])\n",
    "    players_away_df[\"teamId\"] = data[\"matchCentreData\"]['away']['teamId']\n",
    "    players_df = pd.concat([players_home_df, players_away_df])\n",
    "    players_ids = data[\"matchCentreData\"][\"playerIdNameDictionary\"]\n",
    "    return events_dict, players_df, teams_dict"
   ]
  },
  {
   "cell_type": "code",
   "execution_count": null,
   "id": "a8302af1-01eb-47c2-a70a-d27abb65f74a",
   "metadata": {},
   "outputs": [],
   "source": [
    "import json\n",
    "\n",
    "def process_multiple_files(html_file_paths):\n",
    "    all_events = []\n",
    "    all_players = []\n",
    "    all_teams = {}\n",
    "\n",
    "    for match_html_path in html_file_paths:\n",
    "        # Estrai i dati JSON dal file HTML\n",
    "        json_data_txt = extract_json_from_html(match_html_path)\n",
    "        data = json.loads(json_data_txt)\n",
    "\n",
    "        # Estrai i dati dagli eventi, giocatori e squadre\n",
    "        events_dict, players_df, teams_dict = extract_data_from_dict(data)\n",
    "\n",
    "        # Aggiungi i dati estratti all'insieme globale\n",
    "        all_events.extend(events_dict)  # Unisce tutti gli eventi\n",
    "        all_players.append(players_df)  # Lista dei DataFrame dei giocatori\n",
    "        all_teams.update(teams_dict)    # Aggiorna il dizionario delle squadre\n",
    "\n",
    "    # Combina i DataFrame dei giocatori in un unico DataFrame\n",
    "    combined_players_df = pd.concat(all_players, ignore_index=True)\n",
    "\n",
    "    return all_events, combined_players_df, all_teams\n",
    "\n",
    "# Esegui la funzione per elaborare tutti i file\n",
    "all_events, combined_players_df, all_teams = process_multiple_files(lista_file)\n",
    "all_events2, combined_players_df2, all_teams2 = process_multiple_files(lista_file2)"
   ]
  },
  {
   "cell_type": "code",
   "execution_count": null,
   "id": "d56956a7-449b-408f-bba3-97036cec2986",
   "metadata": {},
   "outputs": [],
   "source": [
    "def get_passes_df(events_dict):\n",
    "    df = pd.DataFrame(events_dict)\n",
    "    df['eventType'] = df.apply(lambda row: row['type']['displayName'], axis=1)\n",
    "    df['outcomeType'] = df.apply(lambda row: row['outcomeType']['displayName'], axis=1)\n",
    "\n",
    "    df_touch = df[[\"id\",\"minute\", \"x\", \"y\", \"endX\", \"endY\", \"teamId\", \"playerId\", \"isTouch\", \"eventType\", \"outcomeType\"]]\n",
    "\n",
    "    return df_touch"
   ]
  },
  {
   "cell_type": "code",
   "execution_count": null,
   "id": "dd922376-ace8-4427-ba1a-8d2d8de601d2",
   "metadata": {},
   "outputs": [],
   "source": [
    "df_touch = get_passes_df(all_events)\n",
    "df = df_touch[df_touch[\"playerId\"] == 128839] #WhoScored ID\n",
    "df"
   ]
  },
  {
   "cell_type": "code",
   "execution_count": null,
   "id": "dced5adb-5c00-44d8-8537-8ed2781bac16",
   "metadata": {},
   "outputs": [],
   "source": [
    "df_touch2 = get_passes_df(all_events2)\n",
    "df2 = df_touch2[df_touch2[\"playerId\"] == 336915] # WhoScored ID\n",
    "df2"
   ]
  },
  {
   "cell_type": "code",
   "execution_count": null,
   "id": "37750fb6-1aed-4fa5-9563-401a2a430361",
   "metadata": {},
   "outputs": [],
   "source": [
    "def filter_passes_to_penalty_area(df):\n",
    "\n",
    "    # Definition penalty area limits\n",
    "    x_min, x_max = 83.0, 100.0  # penalty_area_right, right\n",
    "    y_min, y_max = 21.1, 78.9   # penalty_area_bottom, penalty_area_top\n",
    "    \n",
    "    # Creating the filter mask\n",
    "    mask = (\n",
    "        (df['isTouch'] == True) &\n",
    "        (df['x'] >= x_min) &\n",
    "        (df['x'] <= x_max) &\n",
    "        (df['y'] >= y_min) &\n",
    "        (df['y'] <= y_max)\n",
    "    )\n",
    "    \n",
    "    return df[mask]\n",
    "\n",
    "\n",
    "touch_in_box = filter_passes_to_penalty_area(df)\n",
    "touch_in_box2 = filter_passes_to_penalty_area(df2)"
   ]
  },
  {
   "cell_type": "markdown",
   "id": "0c534554-f311-4584-9ba7-13bef3f143d0",
   "metadata": {},
   "source": [
    "# Library LanusStats for heatmap"
   ]
  },
  {
   "cell_type": "code",
   "execution_count": null,
   "id": "7a24c3f3-598b-4d2d-b53e-6e497da60704",
   "metadata": {},
   "outputs": [],
   "source": [
    "sofascore = ls.SofaScore()\n",
    "\n",
    "mc = sofascore.get_player_season_heatmap(\"Serie A\", \"24/25\", 879346) #SofaScore ID\n",
    "tho = sofascore.get_player_season_heatmap(\"Serie A\", \"24/25\", 280991) #SofaScore ID"
   ]
  },
  {
   "cell_type": "code",
   "execution_count": null,
   "id": "b47e2053-c7b9-409e-b723-741cb44ca6d1",
   "metadata": {},
   "outputs": [],
   "source": [
    "Mc = mc.loc[mc.index.repeat(mc['count'])].reset_index(drop=True)\n",
    "Tho = tho.loc[tho.index.repeat(tho['count'])].reset_index(drop=True)"
   ]
  },
  {
   "cell_type": "code",
   "execution_count": null,
   "id": "5f349368-b3ba-4d86-8175-d246fec67f28",
   "metadata": {},
   "outputs": [],
   "source": [
    "from matplotlib.colors import LinearSegmentedColormap\n",
    "\n",
    "almond_cmap = LinearSegmentedColormap.from_list(\"Almond - 100 colors\",\n",
    "                                                  ['blanchedalmond', 'darkred'], N=500)"
   ]
  },
  {
   "cell_type": "code",
   "execution_count": null,
   "id": "22466c3d-1d5d-4659-bed0-43df9c744123",
   "metadata": {},
   "outputs": [],
   "source": [
    "pitch = VerticalPitch(pitch_type='opta', corner_arcs=True, pitch_color = \"blanchedalmond\", line_color=\"white\", line_alpha=1)\n",
    "\n",
    "fig, axs = pitch.grid(figheight=10, title_height=0.08, endnote_space=0, title_space=0,\n",
    "                      axis=False, ncols = 2,\n",
    "                      grid_height=0.82, endnote_height=0.03)\n",
    "fig.patch.set_facecolor('blanchedalmond')\n",
    "#ax.set_facecolor('blanchedalmond')\n",
    "\n",
    "pitch.scatter(touch_in_box[\"x\"], touch_in_box[\"y\"], s= 50, ax = axs[\"pitch\"][0], c= \"grey\", alpha=.3)\n",
    "pitch.kdeplot(Tho.x, Tho.y, ax=axs['pitch'][0],\n",
    "                    # fill using 100 levels so it looks smooth\n",
    "                    fill=True, levels=1000, zorder = -1,\n",
    "                    cmap= almond_cmap)\n",
    "\n",
    "pitch.scatter(touch_in_box2[\"x\"], touch_in_box2[\"y\"], s= 50, ax = axs[\"pitch\"][1], c= \"grey\", alpha=.3)\n",
    "pitch.kdeplot(Mc.x, Mc.y, ax=axs['pitch'][1],\n",
    "                    # fill using 100 levels so it looks smooth\n",
    "                    fill=True, levels=1000, zorder = -1,\n",
    "                    cmap= almond_cmap)\n",
    "\n",
    "#1, 0.5\n",
    "axs['endnote'].text(1, -0.8, 'Dati Opta via Fbref  |  @AlfoMarino0975', va='center', ha='right', fontsize=15, \n",
    "                    color = \"grey\", fontproperties = font_normal)\n",
    "\n",
    "axs['endnote'].text(0.225, -0.8, \"Ogni punto indica un tocco  |  I valori delle metriche sono p90\", color='#003153',\n",
    "                  va='center', ha='center', fontsize=20, fontproperties = font_normal)\n",
    "\n",
    "# Aggiungi il titolo per ciascun campo\n",
    "axs['pitch'][1].text(91, 108, \"S. McTominay  | Serie A 24-25\", fontsize=32, fontproperties = font_med, color='darkred')\n",
    "# Aggiungi sottotitolo per il primo campo\n",
    "axs['pitch'][1].text(0.5, 1.03, \"Duelli aerei vinti: 1.45 | Tocchi in area avv.: 2.62 | Pass. progr. ricevuti: 4.18\", va='top', ha='center', fontsize=18, \n",
    "                     fontproperties = font_normal, color='#003153', transform=axs['pitch'][1].transAxes)\n",
    "\n",
    "axs['pitch'][0].text(88, 108, \"M. Thorsby  |  Serie A 24-25\", fontsize=32, fontproperties = font_med, color='darkred')\n",
    "# Aggiungi sottotitolo per il secondo campo\n",
    "axs['pitch'][0].text(0.5, 1.03, \"Duelli aerei vinti: 5.14 | Tocchi in area avv.: 2.99 | Pass. progr. ricevuti: 2.93\", va='top', ha='center', fontsize=18, \n",
    "                     fontproperties = font_normal, color='#003153', transform=axs['pitch'][0].transAxes)\n",
    "\n",
    "\n",
    "# Aggiungi la freccia all'interno del primo campo 'pitch'\n",
    "axs['pitch'][0].annotate('', xy=(10, 25), xytext=(10, 5),\n",
    "                         arrowprops=dict(edgecolor='grey', arrowstyle='->', lw=2.5))\n",
    "\n",
    "axs['pitch'][1].annotate('', xy=(10, 25), xytext=(10, 5),\n",
    "                         arrowprops=dict(edgecolor='grey', arrowstyle='->', lw=2.5))\n",
    "\n",
    "axs['title'].text(0.5, 2.3, \"Arieti a confronto\", color='darkred',\n",
    "                  va='center', ha='center', fontsize=40, fontproperties = font_semi)\n",
    "\n",
    "axs['title'].text(0.5, 1.7, \"Sono tra i centrocampisti che toccano più palloni in area di rigore avversaria\", color='darkorange',\n",
    "                  va='center', ha='center', fontsize=28, fontproperties = font_med)\n",
    "\n",
    "\n",
    "# Salva la figura come file immagine\n",
    "output_path = \"/Users/alfonsomarino/Desktop/heatmap_touch.png\"\n",
    "fig.savefig(output_path, dpi=300, bbox_inches='tight', facecolor=fig.get_facecolor())"
   ]
  }
 ],
 "metadata": {
  "kernelspec": {
   "display_name": "Python 3 (ipykernel)",
   "language": "python",
   "name": "python3"
  },
  "language_info": {
   "codemirror_mode": {
    "name": "ipython",
    "version": 3
   },
   "file_extension": ".py",
   "mimetype": "text/x-python",
   "name": "python",
   "nbconvert_exporter": "python",
   "pygments_lexer": "ipython3",
   "version": "3.12.5"
  }
 },
 "nbformat": 4,
 "nbformat_minor": 5
}

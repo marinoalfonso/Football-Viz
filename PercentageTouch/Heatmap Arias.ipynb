{
 "cells": [
  {
   "cell_type": "code",
   "execution_count": null,
   "id": "1f9efb02-5f23-44e0-a79e-b245a38a80c4",
   "metadata": {},
   "outputs": [],
   "source": [
    "import json\n",
    "import re\n",
    "import pandas as pd\n",
    "import os\n",
    "import matplotlib.font_manager as font_manager\n",
    "from mplsoccer import VerticalPitch"
   ]
  },
  {
   "cell_type": "code",
   "execution_count": null,
   "id": "f651169a-7bad-4318-bf85-03184e4c3a55",
   "metadata": {},
   "outputs": [],
   "source": [
    "#Import any font you want from your pc\n",
    "## Create a font properties object with the font file\n",
    "\n",
    "font_path_regular = '/Users/alfonsomarino/Desktop/Teko/static/Teko-Regular.ttf'\n",
    "font_normal = font_manager.FontProperties(fname=font_path_regular)\n",
    "\n",
    "font_path_med = \"/Users/alfonsomarino/Desktop/Teko/static/Teko-Medium.ttf\"\n",
    "font_med = font_manager.FontProperties(fname = font_path_med)\n",
    "\n",
    "font_path_semi = \"/Users/alfonsomarino/Desktop/Teko/static/Teko-SemiBold.ttf\"\n",
    "font_semi = font_manager.FontProperties(fname = font_path_semi)"
   ]
  },
  {
   "cell_type": "code",
   "execution_count": null,
   "id": "3b96ff15-e441-49da-bab6-b8e6f1fc9712",
   "metadata": {},
   "outputs": [],
   "source": [
    "cartella = '/Users/alfonsomarino/Desktop/partite/partite arias'\n",
    "\n",
    "lista_file = [os.path.join(cartella, f) for f in os.listdir(cartella) if os.path.isfile(os.path.join(cartella, f))]"
   ]
  },
  {
   "cell_type": "markdown",
   "id": "23ca5daf-fe1f-41b6-a238-20854dd7e923",
   "metadata": {},
   "source": [
    "## Scraping HTML file"
   ]
  },
  {
   "cell_type": "code",
   "execution_count": null,
   "id": "a5032057-0714-4839-a39a-c51126d13ad5",
   "metadata": {},
   "outputs": [],
   "source": [
    "def extract_json_from_html(html_path, save_output=False):\n",
    "    html_file = open(html_path, 'r')\n",
    "    html = html_file.read()\n",
    "    html_file.close()\n",
    "    regex_pattern = r'(?<=require\\.config\\.params\\[\"args\"\\].=.)[\\s\\S]*?;'\n",
    "    data_txt = re.findall(regex_pattern, html)[0]\n",
    "\n",
    "    # add quotations for json parser\n",
    "    data_txt = data_txt.replace('matchId', '\"matchId\"')\n",
    "    data_txt = data_txt.replace('matchCentreData', '\"matchCentreData\"')\n",
    "    data_txt = data_txt.replace('matchCentreEventTypeJson', '\"matchCentreEventTypeJson\"')\n",
    "    data_txt = data_txt.replace('formationIdNameMappings', '\"formationIdNameMappings\"')\n",
    "    data_txt = data_txt.replace('};', '}')\n",
    "\n",
    "    if save_output:\n",
    "        # save json data to txt\n",
    "        output_file = open(f\"{html_path}.txt\", \"wt\")\n",
    "        n = output_file.write(data_txt)\n",
    "        output_file.close()\n",
    "\n",
    "    return data_txt"
   ]
  },
  {
   "cell_type": "code",
   "execution_count": null,
   "id": "d80ddf4d-63cb-4ba5-87f4-3455fc5ad7f8",
   "metadata": {},
   "outputs": [],
   "source": [
    "def extract_data_from_dict(data):\n",
    "    # load data from json\n",
    "    event_types_json = data[\"matchCentreEventTypeJson\"]\n",
    "    formation_mappings = data[\"formationIdNameMappings\"]\n",
    "    events_dict = data[\"matchCentreData\"][\"events\"]\n",
    "    teams_dict = {data[\"matchCentreData\"]['home']['teamId']: data[\"matchCentreData\"]['home']['name'],\n",
    "                  data[\"matchCentreData\"]['away']['teamId']: data[\"matchCentreData\"]['away']['name']}\n",
    "    players_dict = data[\"matchCentreData\"][\"playerIdNameDictionary\"]\n",
    "    # create players dataframe\n",
    "    players_home_df = pd.DataFrame(data[\"matchCentreData\"]['home']['players'])\n",
    "    players_home_df[\"teamId\"] = data[\"matchCentreData\"]['home']['teamId']\n",
    "    players_away_df = pd.DataFrame(data[\"matchCentreData\"]['away']['players'])\n",
    "    players_away_df[\"teamId\"] = data[\"matchCentreData\"]['away']['teamId']\n",
    "    players_df = pd.concat([players_home_df, players_away_df])\n",
    "    players_ids = data[\"matchCentreData\"][\"playerIdNameDictionary\"]\n",
    "    return events_dict, players_df, teams_dict"
   ]
  },
  {
   "cell_type": "code",
   "execution_count": null,
   "id": "7b970467-f46d-4e21-8e01-324a3f217f96",
   "metadata": {},
   "outputs": [],
   "source": [
    "def process_multiple_files(html_file_paths):\n",
    "    all_events = []\n",
    "    all_players = []\n",
    "    all_teams = {}\n",
    "\n",
    "    for match_html_path in html_file_paths:\n",
    "        # Estrai i dati JSON dal file HTML\n",
    "        json_data_txt = extract_json_from_html(match_html_path)\n",
    "        data = json.loads(json_data_txt)\n",
    "\n",
    "        # Estrai i dati dagli eventi, giocatori e squadre\n",
    "        events_dict, players_df, teams_dict = extract_data_from_dict(data)\n",
    "\n",
    "        # Aggiungi i dati estratti all'insieme globale\n",
    "        all_events.extend(events_dict)  # Unisce tutti gli eventi\n",
    "        all_players.append(players_df)  # Lista dei DataFrame dei giocatori\n",
    "        all_teams.update(teams_dict)    # Aggiorna il dizionario delle squadre\n",
    "\n",
    "    # Combina i DataFrame dei giocatori in un unico DataFrame\n",
    "    combined_players_df = pd.concat(all_players, ignore_index=True)\n",
    "\n",
    "    return all_events, combined_players_df, all_teams\n",
    "\n",
    "all_events, combined_players_df, all_teams = process_multiple_files(lista_file)"
   ]
  },
  {
   "cell_type": "code",
   "execution_count": null,
   "id": "6365fe8c-75d9-4681-97c3-14e82de710f1",
   "metadata": {},
   "outputs": [],
   "source": [
    "def get_passes_df(events_dict):\n",
    "    df = pd.DataFrame(events_dict)\n",
    "    df['eventType'] = df.apply(lambda row: row['type']['displayName'], axis=1)\n",
    "    df['outcomeType'] = df.apply(lambda row: row['outcomeType']['displayName'], axis=1)\n",
    "    df_touch = df[[\"id\",\"minute\", \"x\", \"y\", \"endX\", \"endY\", \"teamId\", \"playerId\", \"isTouch\", \"eventType\", \"outcomeType\"]]\n",
    "\n",
    "    return df_touch"
   ]
  },
  {
   "cell_type": "code",
   "execution_count": null,
   "id": "aeb7c9ee-fd8e-46f6-8b9c-d3b5b8263e8a",
   "metadata": {},
   "outputs": [],
   "source": [
    "df_touch = get_passes_df(all_events)\n",
    "df = df_touch[df_touch[\"playerId\"] == 424039] #whoscored ID\n",
    "df"
   ]
  },
  {
   "cell_type": "code",
   "execution_count": null,
   "id": "7e2372da-c6b4-44a0-b560-eabbc650fec1",
   "metadata": {},
   "outputs": [],
   "source": [
    "df[\"eventType\"].unique()"
   ]
  },
  {
   "cell_type": "code",
   "execution_count": null,
   "id": "53c85c27-b006-4d3f-a836-fcfe52fe1795",
   "metadata": {},
   "outputs": [],
   "source": [
    "df = df[df[\"isTouch\"] == True]"
   ]
  },
  {
   "cell_type": "markdown",
   "id": "30ae2dd2-5455-4632-985b-a3d27df3d100",
   "metadata": {},
   "source": [
    "## Visualization"
   ]
  },
  {
   "cell_type": "code",
   "execution_count": null,
   "id": "0b6f94bd-1367-415f-a10d-6fabff392f00",
   "metadata": {},
   "outputs": [],
   "source": [
    "from matplotlib.colors import LinearSegmentedColormap\n",
    "\n",
    "almond_cmap = LinearSegmentedColormap.from_list(\"Almond - 100 colors\",\n",
    "                                                  ['blanchedalmond', 'darkred'], N =20)"
   ]
  },
  {
   "cell_type": "code",
   "execution_count": null,
   "id": "dd270ab4-a738-49f9-b19d-5a1db6b0c646",
   "metadata": {},
   "outputs": [],
   "source": [
    "from matplotlib.patches import RegularPolygon\n",
    "from highlight_text import fig_text, ax_text\n",
    "import matplotlib.patheffects as path_effects\n",
    "import os\n",
    "import matplotlib.image as image\n",
    "import matplotlib.pyplot as plt\n",
    "\n",
    "path_eff = [path_effects.Stroke(linewidth=2, foreground='black'),\n",
    "            path_effects.Normal()]\n",
    "\n",
    "def getImage(path):\n",
    "   return OffsetImage(plt.imread(path), zoom=0.7)\n",
    "\n",
    "pitch = VerticalPitch(pitch_type='opta', corner_arcs=True, pitch_color = \"blanchedalmond\",\n",
    "                      line_color=\"white\", line_alpha=1, line_zorder = 2)\n",
    "\n",
    "fig, axs = pitch.grid(figheight=13, title_height=0.08, endnote_space=0, title_space=0,\n",
    "                      axis=False,\n",
    "                      grid_height=0.82, endnote_height=0.03)\n",
    "fig.patch.set_facecolor('blanchedalmond')\n",
    "#ax.set_facecolor('blanchedalmond')\n",
    "\n",
    "bin_statistic = pitch.bin_statistic_positional(df[\"x\"], df[\"y\"], statistic='count',\n",
    "                                               positional='full', normalize=True)\n",
    "\n",
    "pitch.heatmap_positional(bin_statistic, ax=axs['pitch'],\n",
    "                         cmap=almond_cmap, edgecolors='None')\n",
    "\n",
    "pitch.scatter(df[\"x\"], df[\"y\"], s= 80, ax = axs[\"pitch\"], c= \"darkgreen\", alpha=.2, zorder = 2)\n",
    "\n",
    "labels = pitch.label_heatmap(bin_statistic, color='#f4edf0', fontsize=20,\n",
    "                             ax=axs['pitch'], ha='center', va='center',\n",
    "                             str_format='{:.0%}', path_effects=path_eff, fontproperties=font_semi)\n",
    "\n",
    "\n",
    "#1, 0.5\n",
    "axs['endnote'].text(1, -0.8, 'Dati WhoScored  |  @AlfoMarino0975', va='center', ha='right', fontsize=15, \n",
    "                    color = \"grey\", fontproperties = font_normal)\n",
    "\n",
    "axs['endnote'].text(0.225, -0.8, \"Each dot represents a touch\", color='#003153',\n",
    "                  va='center', ha='center', fontsize=18, fontproperties = font_normal)\n",
    "\n",
    "# Aggiungi sottotitolo per il primo campo\n",
    "axs['pitch'].text(0.5, 1.03, \"Touches (p90): 68.8  |  Fouls won: 13  |  Pass accuracy: 89.2%\", va='top', ha='center', fontsize=25, \n",
    "                     fontproperties = font_normal, color='#003153', transform=axs['pitch'].transAxes)\n",
    "\n",
    "# Add arrow\n",
    "#axs['pitch'].annotate('', xy=(10, 25), xytext=(10, 5),\n",
    "#                         arrowprops=dict(edgecolor='grey', arrowstyle='->', lw=2.5))\n",
    "\n",
    "\n",
    "axs['title'].text(0.5, 0.8, \"Arias: the heartbeat of Flu’s game\", color='darkred',\n",
    "                  va='center', ha='center', fontsize=42, fontproperties = font_semi)\n",
    "\n",
    "\n",
    "logo = plt.imread(\"/Users/alfonsomarino/Desktop/Progetti/IMG_2978.PNG\")\n",
    "logo_ax = fig.add_axes([0.65, -0.01, 0.4, 0.12])\n",
    "logo_ax.imshow(logo)\n",
    "logo_ax.axis('off')\n",
    "\n",
    "output_path = \"/Users/alfonsomarino/Desktop/heatmap_touch2.png\"\n",
    "fig.savefig(output_path, dpi=300, bbox_inches='tight', facecolor=fig.get_facecolor())\n"
   ]
  }
 ],
 "metadata": {
  "kernelspec": {
   "display_name": "Python 3 (ipykernel)",
   "language": "python",
   "name": "python3"
  },
  "language_info": {
   "codemirror_mode": {
    "name": "ipython",
    "version": 3
   },
   "file_extension": ".py",
   "mimetype": "text/x-python",
   "name": "python",
   "nbconvert_exporter": "python",
   "pygments_lexer": "ipython3",
   "version": "3.12.5"
  }
 },
 "nbformat": 4,
 "nbformat_minor": 5
}
